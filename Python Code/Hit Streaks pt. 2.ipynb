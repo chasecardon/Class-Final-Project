{
 "cells": [
  {
   "cell_type": "code",
   "execution_count": 4,
   "id": "94332520",
   "metadata": {},
   "outputs": [],
   "source": [
    "#allow output from every Line\n",
    "from IPython.core. interactiveshell import InteractiveShell\n",
    "InteractiveShell.ast_node_interactivity = \"all\""
   ]
  },
  {
   "cell_type": "code",
   "execution_count": 3,
   "id": "5ef14287",
   "metadata": {},
   "outputs": [],
   "source": [
    "import pandas as pd\n",
    "import random\n",
    "import numpy as np\n",
    "import statistics\n",
    "import matplotlib.pyplot as plt\n"
   ]
  },
  {
   "cell_type": "code",
   "execution_count": 5,
   "id": "99d53b41",
   "metadata": {},
   "outputs": [],
   "source": [
    "def streaks_and_slumps(numbers):\n",
    "    #create open lists\n",
    "    streaks = []\n",
    "    slumps = []\n",
    "    \n",
    "    #we'll take the first in the list, and assign it to current number, ans start the count at 1\n",
    "    current_count = 1\n",
    "    current_number = numbers[0]\n",
    "\n",
    "    for number in numbers[1:]:\n",
    "        #if the next number is the same as current number, increase count by 1\n",
    "        if number == current_number:\n",
    "            current_count += 1\n",
    "        else:\n",
    "            #assign it to wither streaks or slumps depending on if it was a 0 or 1\n",
    "            if current_number == 1:\n",
    "                streaks.append(current_count)\n",
    "            else:\n",
    "                slumps.append(current_count)\n",
    "            #reset count to 1 and set the streak breaking number to the new current number    \n",
    "            current_count = 1\n",
    "            current_number = number\n",
    "\n",
    "    if current_number == 1:\n",
    "        streaks.append(current_count)\n",
    "    else:\n",
    "        slumps.append(current_count)\n",
    "\n",
    "    return streaks, slumps"
   ]
  },
  {
   "cell_type": "code",
   "execution_count": null,
   "id": "30d90bbc",
   "metadata": {},
   "outputs": [],
   "source": []
  },
  {
   "cell_type": "code",
   "execution_count": 6,
   "id": "33555ab6",
   "metadata": {},
   "outputs": [],
   "source": [
    "#I grabbed game by game data from https://www.baseball-reference.com/players/d/dimagjo01.shtml (game logs)\n",
    "dimaggio = pd.read_csv(\"dimaggio.csv\")"
   ]
  },
  {
   "cell_type": "code",
   "execution_count": 7,
   "id": "89fcb050",
   "metadata": {},
   "outputs": [
    {
     "data": {
      "text/plain": [
       "3.929147465437788"
      ]
     },
     "execution_count": 7,
     "metadata": {},
     "output_type": "execute_result"
    },
    {
     "data": {
      "text/plain": [
       "0.059907834101382486"
      ]
     },
     "execution_count": 7,
     "metadata": {},
     "output_type": "execute_result"
    },
    {
     "data": {
      "text/plain": [
       "0.24539170506912442"
      ]
     },
     "execution_count": 7,
     "metadata": {},
     "output_type": "execute_result"
    }
   ],
   "source": [
    "dimaggio['AB'].mean()\n",
    "sum(dimaggio['AB'] < 3) / len(dimaggio['AB'])\n",
    "sum(dimaggio['AB'] > 4) / len(dimaggio['AB'])"
   ]
  },
  {
   "cell_type": "code",
   "execution_count": 8,
   "id": "822573bd",
   "metadata": {},
   "outputs": [
    {
     "data": {
      "text/plain": [
       "0.7799539170506913"
      ]
     },
     "execution_count": 8,
     "metadata": {},
     "output_type": "execute_result"
    }
   ],
   "source": [
    "g_hit_p = sum(dimaggio['H'] != 0) / len(dimaggio['H'])\n",
    "g_hit_p"
   ]
  },
  {
   "cell_type": "code",
   "execution_count": 8,
   "id": "2c9eb275",
   "metadata": {},
   "outputs": [],
   "source": [
    "#how many simulations of DiMaggio's career do you want to do?\n",
    "dimaggio_sims = 10000"
   ]
  },
  {
   "cell_type": "code",
   "execution_count": 9,
   "id": "f066be0a",
   "metadata": {},
   "outputs": [],
   "source": [
    "dataY = pd.DataFrame(columns=['sim', 'long'])\n",
    "\n",
    "for i in range(1, dimaggio_sims+1):\n",
    "    dataY.loc[i - 1, 'sim'] = i\n",
    "    dataY.loc[i - 1, 'long'] =max(streaks_and_slumps(random.choices([0, 1], weights=[1 - g_hit_p, g_hit_p], k=1736))[0])\n"
   ]
  },
  {
   "cell_type": "code",
   "execution_count": 10,
   "id": "22da3228",
   "metadata": {},
   "outputs": [
    {
     "data": {
      "text/plain": [
       "(array([  0.,   0.,   0.,   0.,   0.,   0.,   0.,   0.,   0.,   0.,   1.,\n",
       "          7.,  17.,  88., 193., 374., 557., 702., 867., 887., 929., 881.,\n",
       "        712., 687., 602., 491., 400., 323., 298., 205., 176., 132., 102.,\n",
       "         77.,  63.,  55.,  34.,  36.,  23.,  15.,  14.,  12.,   5.,   5.,\n",
       "          8.,   3.,   6.,   6.,   3.,   1.,   1.,   1.,   0.,   0.,   0.,\n",
       "          0.,   0.,   0.,   0.,   0.,   0.,   0.,   0.,   1.,   0.,   0.,\n",
       "          0.,   0.,   0.,   0.,   0.,   0.,   0.,   0.]),\n",
       " array([ 3.5,  4.5,  5.5,  6.5,  7.5,  8.5,  9.5, 10.5, 11.5, 12.5, 13.5,\n",
       "        14.5, 15.5, 16.5, 17.5, 18.5, 19.5, 20.5, 21.5, 22.5, 23.5, 24.5,\n",
       "        25.5, 26.5, 27.5, 28.5, 29.5, 30.5, 31.5, 32.5, 33.5, 34.5, 35.5,\n",
       "        36.5, 37.5, 38.5, 39.5, 40.5, 41.5, 42.5, 43.5, 44.5, 45.5, 46.5,\n",
       "        47.5, 48.5, 49.5, 50.5, 51.5, 52.5, 53.5, 54.5, 55.5, 56.5, 57.5,\n",
       "        58.5, 59.5, 60.5, 61.5, 62.5, 63.5, 64.5, 65.5, 66.5, 67.5, 68.5,\n",
       "        69.5, 70.5, 71.5, 72.5, 73.5, 74.5, 75.5, 76.5, 77.5]),\n",
       " <BarContainer object of 74 artists>)"
      ]
     },
     "execution_count": 10,
     "metadata": {},
     "output_type": "execute_result"
    },
    {
     "data": {
      "text/plain": [
       "Text(0.5, 0, 'Longest Hit Streak')"
      ]
     },
     "execution_count": 10,
     "metadata": {},
     "output_type": "execute_result"
    },
    {
     "data": {
      "text/plain": [
       "Text(0, 0.5, 'Frequency')"
      ]
     },
     "execution_count": 10,
     "metadata": {},
     "output_type": "execute_result"
    },
    {
     "data": {
      "text/plain": [
       "Text(0.5, 1.0, 'Histogram of Longest DiMaggio Hit Streak From Simulations')"
      ]
     },
     "execution_count": 10,
     "metadata": {},
     "output_type": "execute_result"
    },
    {
     "data": {
      "text/plain": [
       "<matplotlib.lines.Line2D at 0x2bd0d145cd0>"
      ]
     },
     "execution_count": 10,
     "metadata": {},
     "output_type": "execute_result"
    },
    {
     "data": {
      "text/plain": [
       "<matplotlib.lines.Line2D at 0x2bd0d070510>"
      ]
     },
     "execution_count": 10,
     "metadata": {},
     "output_type": "execute_result"
    },
    {
     "data": {
      "text/plain": [
       "<matplotlib.legend.Legend at 0x2bd0d19a3d0>"
      ]
     },
     "execution_count": 10,
     "metadata": {},
     "output_type": "execute_result"
    },
    {
     "data": {
      "image/png": "[encoded data removed]",
      "text/plain": [
       "<Figure size 640x480 with 1 Axes>"
      ]
     },
     "metadata": {},
     "output_type": "display_data"
    }
   ],
   "source": [
    "#plot of distribution of DiMaggio hit streaks from sims of Part 2\n",
    "min_value = int(dataY['long'].min()) - 10.5\n",
    "max_value = int(dataY['long'].max()) + 10.5\n",
    "\n",
    "plt.hist(dataY['long'], bins=np.arange(min_value, max_value + 1, 1), color='blue', alpha=0.7, rwidth=0.85)\n",
    "\n",
    "plt.xlabel('Longest Hit Streak')\n",
    "plt.ylabel('Frequency')\n",
    "plt.title('Histogram of Longest DiMaggio Hit Streak From Simulations')\n",
    "\n",
    "plt.axvline(x=56, color='green', linestyle='--', label='Actual Hit Streak Record')\n",
    "\n",
    "average_hit_streak = dataY['long'].mean()\n",
    "plt.axvline(x=average_hit_streak, color='red', linestyle='--', label=f'Average Longest Hit Streak \\n from Simulations: {average_hit_streak:.2f}') # Added newline (\\n) for line break\n",
    "\n",
    "plt.legend()\n",
    "\n",
    "plt.grid(axis='y', alpha=0.75)\n",
    "plt.savefig('dimaggio_sim.png', dpi=300)\n",
    "plt.show()"
   ]
  },
  {
   "cell_type": "code",
   "execution_count": 11,
   "id": "f9dc0de4",
   "metadata": {},
   "outputs": [
    {
     "data": {
      "text/plain": [
       "25.7869"
      ]
     },
     "execution_count": 11,
     "metadata": {},
     "output_type": "execute_result"
    },
    {
     "data": {
      "text/plain": [
       "25.0"
      ]
     },
     "execution_count": 11,
     "metadata": {},
     "output_type": "execute_result"
    },
    {
     "data": {
      "text/plain": [
       "67"
      ]
     },
     "execution_count": 11,
     "metadata": {},
     "output_type": "execute_result"
    },
    {
     "data": {
      "text/plain": [
       "1"
      ]
     },
     "execution_count": 11,
     "metadata": {},
     "output_type": "execute_result"
    },
    {
     "data": {
      "text/plain": [
       "0.0001"
      ]
     },
     "execution_count": 11,
     "metadata": {},
     "output_type": "execute_result"
    }
   ],
   "source": [
    "dataY['long'].mean()\n",
    "dataY['long'].median()\n",
    "dataY['long'].max()\n",
    "sum(dataY['long'] > 56)\n",
    "sum(dataY['long'] > 56) / len(dataY['long'])"
   ]
  },
  {
   "cell_type": "code",
   "execution_count": null,
   "id": "2a51deb2",
   "metadata": {},
   "outputs": [],
   "source": []
  }
 ],
 "metadata": {
  "kernelspec": {
   "display_name": "Python 3 (ipykernel)",
   "language": "python",
   "name": "python3"
  },
  "language_info": {
   "codemirror_mode": {
    "name": "ipython",
    "version": 3
   },
   "file_extension": ".py",
   "mimetype": "text/x-python",
   "name": "python",
   "nbconvert_exporter": "python",
   "pygments_lexer": "ipython3",
   "version": "3.11.5"
  }
 },
 "nbformat": 4,
 "nbformat_minor": 5
}
