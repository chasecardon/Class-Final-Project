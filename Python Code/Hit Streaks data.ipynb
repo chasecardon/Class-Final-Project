{
 "cells": [
  {
   "cell_type": "code",
   "execution_count": null,
   "id": "912abe8c",
   "metadata": {},
   "outputs": [],
   "source": [
    "#allow output from every Line\n",
    "from IPython.core. interactiveshell import InteractiveShell\n",
    "InteractiveShell.ast_node_interactivity = \"all\""
   ]
  },
  {
   "cell_type": "code",
   "execution_count": null,
   "id": "2cc35e14",
   "metadata": {},
   "outputs": [],
   "source": [
    "import pandas as pd\n",
    "from pybaseball import batting_stats\n",
    "import random\n",
    "import numpy as np\n",
    "import statistics\n",
    "import matplotlib.pyplot as plt"
   ]
  },
  {
   "cell_type": "code",
   "execution_count": null,
   "id": "3c40663e",
   "metadata": {},
   "outputs": [],
   "source": [
    "# this is a function that takes a list of 1's and 0's and returns the 'streaks' and 'slumps' in\n",
    "# the list. for the purpose of my project, I am primarily interested in the streaks.\n",
    "def streaks_and_slumps(numbers):\n",
    "    #create open lists\n",
    "    streaks = []\n",
    "    slumps = []\n",
    "    \n",
    "    #we'll take the first in the list, and assign it to current number, ans start the count at 1\n",
    "    current_count = 1\n",
    "    current_number = numbers[0]\n",
    "\n",
    "    for number in numbers[1:]:\n",
    "        #if the next number is the same as current number, increase count by 1\n",
    "        if number == current_number:\n",
    "            current_count += 1\n",
    "        else:\n",
    "            #assign it to wither streaks or slumps depending on if it was a 0 or 1\n",
    "            if current_number == 1:\n",
    "                streaks.append(current_count)\n",
    "            else:\n",
    "                slumps.append(current_count)\n",
    "            #reset count to 1 and set the streak breaking number to the new current number    \n",
    "            current_count = 1\n",
    "            current_number = number\n",
    "\n",
    "    if current_number == 1:\n",
    "        streaks.append(current_count)\n",
    "    else:\n",
    "        slumps.append(current_count)\n",
    "\n",
    "    return streaks, slumps"
   ]
  },
  {
   "cell_type": "code",
   "execution_count": null,
   "id": "950d1af1",
   "metadata": {},
   "outputs": [],
   "source": []
  },
  {
   "cell_type": "code",
   "execution_count": null,
   "id": "58ceb57c",
   "metadata": {},
   "outputs": [],
   "source": [
    "dataX = batting_stats(1871, 2024, ind=0)\n",
    "dataX = dataX[['IDfg', 'Name', 'G', 'H', 'PA']]\n",
    "#dataX['IDfg'].nunique()"
   ]
  },
  {
   "cell_type": "code",
   "execution_count": null,
   "id": "850c0958",
   "metadata": {},
   "outputs": [],
   "source": [
    "#Run here down to resimulate MLB batting history (1,000 simulations took roughly 3 hours for me)"
   ]
  },
  {
   "cell_type": "code",
   "execution_count": null,
   "id": "b9ffb44f",
   "metadata": {},
   "outputs": [],
   "source": [
    "#how many simulations of \"MLB batting history\" do you want to do?\n",
    "career_sims = 1000"
   ]
  },
  {
   "cell_type": "code",
   "execution_count": null,
   "id": "19cd0756",
   "metadata": {},
   "outputs": [],
   "source": [
    "data = dataX.reset_index()\n",
    "\n",
    "#career hit percentage for each player\n",
    "data['hit%'] = data['H'] / data['PA']\n",
    "\n",
    "#career plate appearances per game for each player\n",
    "data['PA rate'] = data['PA'] / data['G']\n",
    "\n",
    "#plate appearance minimum for each player. If a player averages 4.2 PA per game, I am justifying \n",
    "#that in virtually all games, they will get 4 PA's and in 20% of games, they'll get a 5th.\n",
    "data['PA_m'] = np.floor(data['PA rate'])\n",
    "\n",
    "#extra PA percentage\n",
    "data['hit_e_p'] = data['PA rate'] - data['PA_m']\n",
    "\n",
    "\n",
    "#for each of all the simulations you want..\n",
    "for i in range(1, career_sims+1):\n",
    "    column_name = f'career long from MLB sim {i}'\n",
    "    data[column_name] = pd.NA\n",
    "    \n",
    "    #for each player (each row in the existing df)..\n",
    "    for j in range(len(data)):\n",
    "        h_p = data.at[j, 'hit%']\n",
    "        h_e_p = data.at[j, 'hit_e_p']\n",
    "        c_g = data.at[j, 'G']\n",
    "        game_hits = []\n",
    "    \n",
    "        counter = 0\n",
    "        #do for the length of players' career games\n",
    "        while counter < c_g:\n",
    "            \n",
    "            g_pa = int(data.at[j, 'PA_m'] + random.choices([0, 1], weights=[1 - h_e_p, h_e_p], k=1)[0])\n",
    "            #random binary sample based on hit percentage, for the length of PA rate + a chance at extra hit\n",
    "            game_hits.append(int(sum(random.choices([0, 1], weights=[1 - h_p, h_p], k=g_pa)) > 0))\n",
    "            counter += 1\n",
    "    \n",
    "        data.iloc[j, i + 9] = max(streaks_and_slumps(game_hits)[0])\n",
    "\n",
    "        \n",
    "\n",
    "#add two final columns describing each players' average hit streak long and their longest hit streak long\n",
    "data['player longest long'] = pd.NA\n",
    "data['player average long'] = pd.NA        \n",
    "\n",
    "\n",
    "for i in range(len(data)):\n",
    "    selected_columns = data.iloc[i, 10:career_sims+10]\n",
    "\n",
    "    max_value = selected_columns.max()\n",
    "    average_value = selected_columns.mean()\n",
    "\n",
    "    data.at[i, 'player longest long'] = max_value\n",
    "    data.at[i, 'player average long'] = average_value    \n",
    "    \n"
   ]
  },
  {
   "cell_type": "code",
   "execution_count": null,
   "id": "37e450f2",
   "metadata": {},
   "outputs": [],
   "source": [
    "#save to a .csv to keep data and prevent need to resimulate\n",
    "#data.to_csv('data.csv', index=False)"
   ]
  },
  {
   "cell_type": "code",
   "execution_count": null,
   "id": "e14e490d",
   "metadata": {},
   "outputs": [],
   "source": [
    "#data = pd.read_csv(\"data.csv\")"
   ]
  }
 ],
 "metadata": {
  "kernelspec": {
   "display_name": "Python 3 (ipykernel)",
   "language": "python",
   "name": "python3"
  },
  "language_info": {
   "codemirror_mode": {
    "name": "ipython",
    "version": 3
   },
   "file_extension": ".py",
   "mimetype": "text/x-python",
   "name": "python",
   "nbconvert_exporter": "python",
   "pygments_lexer": "ipython3",
   "version": "3.11.5"
  }
 },
 "nbformat": 4,
 "nbformat_minor": 5
}
