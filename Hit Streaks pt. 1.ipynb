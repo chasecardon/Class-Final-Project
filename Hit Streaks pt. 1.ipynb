{
 "cells": [
  {
   "cell_type": "code",
   "execution_count": 1,
   "id": "14d322a5",
   "metadata": {},
   "outputs": [],
   "source": [
    "#allow output from every Line\n",
    "from IPython.core. interactiveshell import InteractiveShell\n",
    "InteractiveShell.ast_node_interactivity = \"all\""
   ]
  },
  {
   "cell_type": "code",
   "execution_count": 2,
   "id": "1af55c4d",
   "metadata": {},
   "outputs": [],
   "source": [
    "import pandas as pd\n",
    "from pybaseball import batting_stats\n",
    "import random\n",
    "import numpy as np\n",
    "import statistics\n",
    "import matplotlib.pyplot as plt\n",
    "import seaborn as sns"
   ]
  },
  {
   "cell_type": "code",
   "execution_count": 3,
   "id": "6dde70a3",
   "metadata": {},
   "outputs": [],
   "source": [
    "# this is a function that takes a list of 1's and 0's and returns the 'streaks' and 'slumps' in\n",
    "# the list. for the purpose of my project, I am primarily interested in the streaks.\n",
    "def streaks_and_slumps(numbers):\n",
    "    #create open lists\n",
    "    streaks = []\n",
    "    slumps = []\n",
    "    \n",
    "    #we'll take the first in the list, and assign it to current number, ans start the count at 1\n",
    "    current_count = 1\n",
    "    current_number = numbers[0]\n",
    "\n",
    "    for number in numbers[1:]:\n",
    "        #if the next number is the same as current number, increase count by 1\n",
    "        if number == current_number:\n",
    "            current_count += 1\n",
    "        else:\n",
    "            #assign it to wither streaks or slumps depending on if it was a 0 or 1\n",
    "            if current_number == 1:\n",
    "                streaks.append(current_count)\n",
    "            else:\n",
    "                slumps.append(current_count)\n",
    "            #reset count to 1 and set the streak breaking number to the new current number    \n",
    "            current_count = 1\n",
    "            current_number = number\n",
    "\n",
    "    if current_number == 1:\n",
    "        streaks.append(current_count)\n",
    "    else:\n",
    "        slumps.append(current_count)\n",
    "\n",
    "    return streaks, slumps"
   ]
  },
  {
   "cell_type": "code",
   "execution_count": null,
   "id": "d9ed8ece",
   "metadata": {},
   "outputs": [],
   "source": []
  },
  {
   "cell_type": "code",
   "execution_count": 4,
   "id": "00e440c4",
   "metadata": {},
   "outputs": [],
   "source": [
    "# I saved the results from the simulations to a .csv. Much easier to just load from here if needed and keep working\n",
    "data = pd.read_csv(\"data.csv\")"
   ]
  },
  {
   "cell_type": "code",
   "execution_count": 17,
   "id": "6aa07169",
   "metadata": {},
   "outputs": [],
   "source": [
    "#I want to create a new df which describes each MLB simulation and it's largest hit streak\n",
    "sim_max = pd.DataFrame({'sim': range(1, 1001),\n",
    "                        'max': data.max(axis=0)[10:1010]})\n",
    "sim_max = sim_max.reset_index()\n",
    "\n",
    "# add a column to specify the player(s) that got the hit streak\n",
    "max_names = []\n",
    "\n",
    "for col in data.columns[10:1010]:\n",
    "    max_indices = data[col] == data[col].max()\n",
    "    names = data.loc[max_indices, 'Name']\n",
    "    if len(names) == 0:\n",
    "        max_names.append('')\n",
    "    else:\n",
    "        max_names.append(', '.join(names))\n",
    "\n",
    "sim_max['max_name'] = max_names"
   ]
  },
  {
   "cell_type": "code",
   "execution_count": null,
   "id": "fe2c7afd",
   "metadata": {},
   "outputs": [],
   "source": [
    "# this creates duplicate rows for the sims that had multiple players with the same longest hit streak\n",
    "# now each row is not necesarily a uniq MLB sim..\n",
    "new_rows = []\n",
    "\n",
    "for index, row in sim_max.iterrows():\n",
    "    if ',' in row['max_name']:\n",
    "        names = row['max_name'].split(',')\n",
    "        for name in names:\n",
    "            new_row = row.copy()\n",
    "            new_row['max_name'] = name.strip()\n",
    "            new_rows.append(new_row)\n",
    "    else:\n",
    "        new_rows.append(row)\n",
    "        \n",
    "sim_max = pd.DataFrame(new_rows)\n",
    "\n",
    "sim_max.reset_index(drop=True, inplace=True)"
   ]
  },
  {
   "cell_type": "code",
   "execution_count": 8,
   "id": "2e1a7683",
   "metadata": {},
   "outputs": [],
   "source": [
    "#data\n",
    "#sim_max"
   ]
  },
  {
   "cell_type": "code",
   "execution_count": 16,
   "id": "56ea020e",
   "metadata": {},
   "outputs": [
    {
     "data": {
      "text/plain": [
       "272"
      ]
     },
     "execution_count": 16,
     "metadata": {},
     "output_type": "execute_result"
    },
    {
     "data": {
      "text/plain": [
       "8"
      ]
     },
     "execution_count": 16,
     "metadata": {},
     "output_type": "execute_result"
    },
    {
     "data": {
      "text/html": [
       "<div>\n",
       "<style scoped>\n",
       "    .dataframe tbody tr th:only-of-type {\n",
       "        vertical-align: middle;\n",
       "    }\n",
       "\n",
       "    .dataframe tbody tr th {\n",
       "        vertical-align: top;\n",
       "    }\n",
       "\n",
       "    .dataframe thead th {\n",
       "        text-align: right;\n",
       "    }\n",
       "</style>\n",
       "<table border=\"1\" class=\"dataframe\">\n",
       "  <thead>\n",
       "    <tr style=\"text-align: right;\">\n",
       "      <th></th>\n",
       "      <th>index</th>\n",
       "      <th>sim</th>\n",
       "      <th>max</th>\n",
       "      <th>max_name</th>\n",
       "    </tr>\n",
       "  </thead>\n",
       "  <tbody>\n",
       "    <tr>\n",
       "      <th>115</th>\n",
       "      <td>career long from MLB sim 109</td>\n",
       "      <td>109</td>\n",
       "      <td>47</td>\n",
       "      <td>Joe DiMaggio</td>\n",
       "    </tr>\n",
       "    <tr>\n",
       "      <th>218</th>\n",
       "      <td>career long from MLB sim 204</td>\n",
       "      <td>204</td>\n",
       "      <td>54</td>\n",
       "      <td>Joe DiMaggio</td>\n",
       "    </tr>\n",
       "    <tr>\n",
       "      <th>509</th>\n",
       "      <td>career long from MLB sim 472</td>\n",
       "      <td>472</td>\n",
       "      <td>60</td>\n",
       "      <td>Joe DiMaggio</td>\n",
       "    </tr>\n",
       "    <tr>\n",
       "      <th>655</th>\n",
       "      <td>career long from MLB sim 607</td>\n",
       "      <td>607</td>\n",
       "      <td>50</td>\n",
       "      <td>Joe DiMaggio</td>\n",
       "    </tr>\n",
       "    <tr>\n",
       "      <th>672</th>\n",
       "      <td>career long from MLB sim 624</td>\n",
       "      <td>624</td>\n",
       "      <td>45</td>\n",
       "      <td>Joe DiMaggio</td>\n",
       "    </tr>\n",
       "    <tr>\n",
       "      <th>762</th>\n",
       "      <td>career long from MLB sim 707</td>\n",
       "      <td>707</td>\n",
       "      <td>69</td>\n",
       "      <td>Joe DiMaggio</td>\n",
       "    </tr>\n",
       "    <tr>\n",
       "      <th>847</th>\n",
       "      <td>career long from MLB sim 780</td>\n",
       "      <td>780</td>\n",
       "      <td>47</td>\n",
       "      <td>Joe DiMaggio</td>\n",
       "    </tr>\n",
       "    <tr>\n",
       "      <th>1061</th>\n",
       "      <td>career long from MLB sim 976</td>\n",
       "      <td>976</td>\n",
       "      <td>52</td>\n",
       "      <td>Joe DiMaggio</td>\n",
       "    </tr>\n",
       "  </tbody>\n",
       "</table>\n",
       "</div>"
      ],
      "text/plain": [
       "                             index  sim  max      max_name\n",
       "115   career long from MLB sim 109  109   47  Joe DiMaggio\n",
       "218   career long from MLB sim 204  204   54  Joe DiMaggio\n",
       "509   career long from MLB sim 472  472   60  Joe DiMaggio\n",
       "655   career long from MLB sim 607  607   50  Joe DiMaggio\n",
       "672   career long from MLB sim 624  624   45  Joe DiMaggio\n",
       "762   career long from MLB sim 707  707   69  Joe DiMaggio\n",
       "847   career long from MLB sim 780  780   47  Joe DiMaggio\n",
       "1061  career long from MLB sim 976  976   52  Joe DiMaggio"
      ]
     },
     "execution_count": 16,
     "metadata": {},
     "output_type": "execute_result"
    },
    {
     "data": {
      "text/plain": [
       "max_name\n",
       "Ross Barnes           94\n",
       "Cal McVey             57\n",
       "Ty Cobb               43\n",
       "Ed Delahanty          27\n",
       "Dave Orr              25\n",
       "Willie Keeler         25\n",
       "George Sisler         24\n",
       "Al Simmons            21\n",
       "Lip Pike              20\n",
       "Cap Anson             20\n",
       "Pete Browning         19\n",
       "Sam Thompson          18\n",
       "Nap Lajoie            16\n",
       "Jesse Burkett         16\n",
       "Joe Jackson           15\n",
       "Dan Brouthers         14\n",
       "Rogers Hornsby        14\n",
       "Tony Gwynn            13\n",
       "Deacon White          12\n",
       "Paul Hines            11\n",
       "Billy Hamilton        11\n",
       "Josh Gibson           11\n",
       "Jim O'Rourke          10\n",
       "George Van Haltren    10\n",
       "Harry Heilmann         9\n",
       "Heinie Manush          9\n",
       "Dobie Moore            8\n",
       "Oscar Charleston       8\n",
       "George Wright          8\n",
       "Derek Jeter            8\n",
       "Joe DiMaggio           8\n",
       "Tip O'Neill            8\n",
       "Tris Speaker           8\n",
       "Name: count, dtype: int64"
      ]
     },
     "execution_count": 16,
     "metadata": {},
     "output_type": "execute_result"
    }
   ],
   "source": [
    "len(sim_max['max_name'].unique())\n",
    "sum(sim_max['max_name'] =='Joe DiMaggio')\n",
    "sim_max[sim_max['max_name'] =='Joe DiMaggio']\n",
    "sim_max['max_name'].value_counts().head(33)"
   ]
  },
  {
   "cell_type": "code",
   "execution_count": 10,
   "id": "5a0fa406",
   "metadata": {},
   "outputs": [
    {
     "data": {
      "text/plain": [
       "(array([ 0.,  0.,  0.,  0.,  0.,  0.,  0.,  0.,  0.,  0.,  2.,  7., 11.,\n",
       "        39., 29., 60., 55., 58., 73., 71., 73., 66., 70., 55., 56., 49.,\n",
       "        42., 33., 46., 27., 26., 20., 15., 13., 15., 16.,  9.,  3.,  8.,\n",
       "         7.,  5.,  6.,  2.,  4.,  6.,  4.,  0.,  1.,  1.,  0.,  1.,  3.,\n",
       "         0.,  1.,  1.,  0.,  0.,  0.,  0.,  0.,  0.,  0.,  0.,  0.,  0.]),\n",
       " array([29.5, 30.5, 31.5, 32.5, 33.5, 34.5, 35.5, 36.5, 37.5, 38.5, 39.5,\n",
       "        40.5, 41.5, 42.5, 43.5, 44.5, 45.5, 46.5, 47.5, 48.5, 49.5, 50.5,\n",
       "        51.5, 52.5, 53.5, 54.5, 55.5, 56.5, 57.5, 58.5, 59.5, 60.5, 61.5,\n",
       "        62.5, 63.5, 64.5, 65.5, 66.5, 67.5, 68.5, 69.5, 70.5, 71.5, 72.5,\n",
       "        73.5, 74.5, 75.5, 76.5, 77.5, 78.5, 79.5, 80.5, 81.5, 82.5, 83.5,\n",
       "        84.5, 85.5, 86.5, 87.5, 88.5, 89.5, 90.5, 91.5, 92.5, 93.5, 94.5]),\n",
       " <BarContainer object of 65 artists>)"
      ]
     },
     "execution_count": 10,
     "metadata": {},
     "output_type": "execute_result"
    },
    {
     "data": {
      "text/plain": [
       "Text(0.5, 0, 'Longest Hit Streak')"
      ]
     },
     "execution_count": 10,
     "metadata": {},
     "output_type": "execute_result"
    },
    {
     "data": {
      "text/plain": [
       "Text(0, 0.5, 'Frequency')"
      ]
     },
     "execution_count": 10,
     "metadata": {},
     "output_type": "execute_result"
    },
    {
     "data": {
      "text/plain": [
       "Text(0.5, 1.0, 'Histogram of Longest Hit Streak From MLB Simulations')"
      ]
     },
     "execution_count": 10,
     "metadata": {},
     "output_type": "execute_result"
    },
    {
     "data": {
      "text/plain": [
       "<matplotlib.lines.Line2D at 0x29aa83b24d0>"
      ]
     },
     "execution_count": 10,
     "metadata": {},
     "output_type": "execute_result"
    },
    {
     "data": {
      "text/plain": [
       "<matplotlib.lines.Line2D at 0x29aa8072410>"
      ]
     },
     "execution_count": 10,
     "metadata": {},
     "output_type": "execute_result"
    },
    {
     "data": {
      "text/plain": [
       "<matplotlib.legend.Legend at 0x29aa8386150>"
      ]
     },
     "execution_count": 10,
     "metadata": {},
     "output_type": "execute_result"
    },
    {
     "data": {
      "image/png": "[encoded data removed]",
      "text/plain": [
       "<Figure size 640x480 with 1 Axes>"
      ]
     },
     "metadata": {},
     "output_type": "display_data"
    }
   ],
   "source": [
    "#plot that shows distribution of hit streak records from all sims\n",
    "min_value = int(sim_max['max'].min()) - 10.5\n",
    "max_value = int(sim_max['max'].max()) + 10.5\n",
    "\n",
    "plt.hist(sim_max['max'], bins=np.arange(min_value, max_value + 1, 1), color='blue', alpha=0.7, rwidth=0.85)\n",
    "\n",
    "plt.xlabel('Longest Hit Streak')\n",
    "plt.ylabel('Frequency')\n",
    "plt.title('Histogram of Longest Hit Streak From MLB Simulations')\n",
    "\n",
    "plt.axvline(x=56, color='green', linestyle='--', label='Joe DiMaggio Hit Streak Record')\n",
    "\n",
    "average_hit_streak = sim_max['max'].mean()\n",
    "plt.axvline(x=average_hit_streak, color='red', linestyle='--', label=f'Average Longest Hit Streak \\n from MLB Simulations: {average_hit_streak:.2f}') # Added newline (\\n) for line break\n",
    "\n",
    "plt.legend()\n",
    "\n",
    "plt.grid(axis='y', alpha=0.75)\n",
    "plt.savefig('mlb_sim.png', dpi=300)\n",
    "plt.show()"
   ]
  },
  {
   "cell_type": "code",
   "execution_count": 11,
   "id": "efc69992",
   "metadata": {},
   "outputs": [
    {
     "data": {
      "text/plain": [
       "52.76124885215794"
      ]
     },
     "execution_count": 11,
     "metadata": {},
     "output_type": "execute_result"
    },
    {
     "data": {
      "text/plain": [
       "52.0"
      ]
     },
     "execution_count": 11,
     "metadata": {},
     "output_type": "execute_result"
    },
    {
     "data": {
      "text/plain": [
       "84"
      ]
     },
     "execution_count": 11,
     "metadata": {},
     "output_type": "execute_result"
    },
    {
     "data": {
      "text/plain": [
       "273"
      ]
     },
     "execution_count": 11,
     "metadata": {},
     "output_type": "execute_result"
    },
    {
     "data": {
      "text/plain": [
       "0.25068870523415976"
      ]
     },
     "execution_count": 11,
     "metadata": {},
     "output_type": "execute_result"
    }
   ],
   "source": [
    "sim_max['max'].mean()\n",
    "sim_max['max'].median()\n",
    "sim_max['max'].max()\n",
    "sum(sim_max['max'] > 56)\n",
    "sum(sim_max['max'] > 56) / len(sim_max['max'])"
   ]
  },
  {
   "cell_type": "code",
   "execution_count": null,
   "id": "1c175f7c",
   "metadata": {},
   "outputs": [],
   "source": []
  },
  {
   "cell_type": "code",
   "execution_count": null,
   "id": "9940be91",
   "metadata": {},
   "outputs": [],
   "source": []
  },
  {
   "cell_type": "code",
   "execution_count": 12,
   "id": "b23e9805",
   "metadata": {},
   "outputs": [
    {
     "data": {
      "text/html": [
       "<div>\n",
       "<style scoped>\n",
       "    .dataframe tbody tr th:only-of-type {\n",
       "        vertical-align: middle;\n",
       "    }\n",
       "\n",
       "    .dataframe tbody tr th {\n",
       "        vertical-align: top;\n",
       "    }\n",
       "\n",
       "    .dataframe thead th {\n",
       "        text-align: right;\n",
       "    }\n",
       "</style>\n",
       "<table border=\"1\" class=\"dataframe\">\n",
       "  <thead>\n",
       "    <tr style=\"text-align: right;\">\n",
       "      <th></th>\n",
       "      <th>sim</th>\n",
       "      <th>streak</th>\n",
       "    </tr>\n",
       "  </thead>\n",
       "  <tbody>\n",
       "    <tr>\n",
       "      <th>0</th>\n",
       "      <td>1</td>\n",
       "      <td>31</td>\n",
       "    </tr>\n",
       "    <tr>\n",
       "      <th>1</th>\n",
       "      <td>2</td>\n",
       "      <td>23</td>\n",
       "    </tr>\n",
       "    <tr>\n",
       "      <th>2</th>\n",
       "      <td>3</td>\n",
       "      <td>26</td>\n",
       "    </tr>\n",
       "    <tr>\n",
       "      <th>3</th>\n",
       "      <td>4</td>\n",
       "      <td>21</td>\n",
       "    </tr>\n",
       "    <tr>\n",
       "      <th>4</th>\n",
       "      <td>5</td>\n",
       "      <td>32</td>\n",
       "    </tr>\n",
       "    <tr>\n",
       "      <th>...</th>\n",
       "      <td>...</td>\n",
       "      <td>...</td>\n",
       "    </tr>\n",
       "    <tr>\n",
       "      <th>995</th>\n",
       "      <td>996</td>\n",
       "      <td>29</td>\n",
       "    </tr>\n",
       "    <tr>\n",
       "      <th>996</th>\n",
       "      <td>997</td>\n",
       "      <td>39</td>\n",
       "    </tr>\n",
       "    <tr>\n",
       "      <th>997</th>\n",
       "      <td>998</td>\n",
       "      <td>21</td>\n",
       "    </tr>\n",
       "    <tr>\n",
       "      <th>998</th>\n",
       "      <td>999</td>\n",
       "      <td>18</td>\n",
       "    </tr>\n",
       "    <tr>\n",
       "      <th>999</th>\n",
       "      <td>1000</td>\n",
       "      <td>20</td>\n",
       "    </tr>\n",
       "  </tbody>\n",
       "</table>\n",
       "<p>1000 rows × 2 columns</p>\n",
       "</div>"
      ],
      "text/plain": [
       "      sim streak\n",
       "0       1     31\n",
       "1       2     23\n",
       "2       3     26\n",
       "3       4     21\n",
       "4       5     32\n",
       "..    ...    ...\n",
       "995   996     29\n",
       "996   997     39\n",
       "997   998     21\n",
       "998   999     18\n",
       "999  1000     20\n",
       "\n",
       "[1000 rows x 2 columns]"
      ]
     },
     "execution_count": 12,
     "metadata": {},
     "output_type": "execute_result"
    },
    {
     "data": {
      "text/html": [
       "<div>\n",
       "<style scoped>\n",
       "    .dataframe tbody tr th:only-of-type {\n",
       "        vertical-align: middle;\n",
       "    }\n",
       "\n",
       "    .dataframe tbody tr th {\n",
       "        vertical-align: top;\n",
       "    }\n",
       "\n",
       "    .dataframe thead th {\n",
       "        text-align: right;\n",
       "    }\n",
       "</style>\n",
       "<table border=\"1\" class=\"dataframe\">\n",
       "  <thead>\n",
       "    <tr style=\"text-align: right;\">\n",
       "      <th></th>\n",
       "      <th>index</th>\n",
       "      <th>IDfg</th>\n",
       "      <th>Name</th>\n",
       "      <th>G</th>\n",
       "      <th>H</th>\n",
       "      <th>PA</th>\n",
       "      <th>hit%</th>\n",
       "      <th>PA rate</th>\n",
       "      <th>PA_m</th>\n",
       "      <th>hit_e_p</th>\n",
       "      <th>...</th>\n",
       "      <th>career long from MLB sim 993</th>\n",
       "      <th>career long from MLB sim 994</th>\n",
       "      <th>career long from MLB sim 995</th>\n",
       "      <th>career long from MLB sim 996</th>\n",
       "      <th>career long from MLB sim 997</th>\n",
       "      <th>career long from MLB sim 998</th>\n",
       "      <th>career long from MLB sim 999</th>\n",
       "      <th>career long from MLB sim 1000</th>\n",
       "      <th>player longest long</th>\n",
       "      <th>player average long</th>\n",
       "    </tr>\n",
       "  </thead>\n",
       "  <tbody>\n",
       "    <tr>\n",
       "      <th>34</th>\n",
       "      <td>17</td>\n",
       "      <td>1003311</td>\n",
       "      <td>Joe DiMaggio</td>\n",
       "      <td>1736</td>\n",
       "      <td>2214</td>\n",
       "      <td>7671</td>\n",
       "      <td>0.288619</td>\n",
       "      <td>4.418779</td>\n",
       "      <td>4</td>\n",
       "      <td>0.418779</td>\n",
       "      <td>...</td>\n",
       "      <td>26</td>\n",
       "      <td>25</td>\n",
       "      <td>30</td>\n",
       "      <td>29</td>\n",
       "      <td>39</td>\n",
       "      <td>21</td>\n",
       "      <td>18</td>\n",
       "      <td>20</td>\n",
       "      <td>69</td>\n",
       "      <td>25.575</td>\n",
       "    </tr>\n",
       "  </tbody>\n",
       "</table>\n",
       "<p>1 rows × 1012 columns</p>\n",
       "</div>"
      ],
      "text/plain": [
       "    index     IDfg          Name     G     H    PA      hit%   PA rate  PA_m  \\\n",
       "34     17  1003311  Joe DiMaggio  1736  2214  7671  0.288619  4.418779     4   \n",
       "\n",
       "     hit_e_p  ...  career long from MLB sim 993  career long from MLB sim 994  \\\n",
       "34  0.418779  ...                            26                            25   \n",
       "\n",
       "    career long from MLB sim 995  career long from MLB sim 996  \\\n",
       "34                            30                            29   \n",
       "\n",
       "    career long from MLB sim 997  career long from MLB sim 998  \\\n",
       "34                            39                            21   \n",
       "\n",
       "    career long from MLB sim 999  career long from MLB sim 1000  \\\n",
       "34                            18                             20   \n",
       "\n",
       "    player longest long  player average long  \n",
       "34                   69               25.575  \n",
       "\n",
       "[1 rows x 1012 columns]"
      ]
     },
     "execution_count": 12,
     "metadata": {},
     "output_type": "execute_result"
    }
   ],
   "source": [
    "#This creates a df that contains data from Joe DiMaggio's sims from Part 1. I want to see how the sim\n",
    "#accuracy feels as compared to DiMaggio sims from Part 2\n",
    "dimaggio_row = data[data['Name'] == 'Joe DiMaggio'].iloc[0].iloc[10:1010]\n",
    "dim2 = pd.DataFrame(columns=['sim', 'streak'])\n",
    "dim2['sim'] = range(1, 1001)\n",
    "dim2['streak'] = dimaggio_row.values\n",
    "#dim2\n",
    "#data[data['Name'] =='Joe DiMaggio']"
   ]
  },
  {
   "cell_type": "code",
   "execution_count": null,
   "id": "d67c4647",
   "metadata": {},
   "outputs": [],
   "source": []
  },
  {
   "cell_type": "code",
   "execution_count": 13,
   "id": "933c983b",
   "metadata": {},
   "outputs": [
    {
     "ename": "NameError",
     "evalue": "name 'dataY' is not defined",
     "output_type": "error",
     "traceback": [
      "\u001b[1;31m---------------------------------------------------------------------------\u001b[0m",
      "\u001b[1;31mNameError\u001b[0m                                 Traceback (most recent call last)",
      "Cell \u001b[1;32mIn[13], line 4\u001b[0m\n\u001b[0;32m      1\u001b[0m mean_dim2 \u001b[38;5;241m=\u001b[39m dim2[\u001b[38;5;124m'\u001b[39m\u001b[38;5;124mstreak\u001b[39m\u001b[38;5;124m'\u001b[39m]\u001b[38;5;241m.\u001b[39mmean()\n\u001b[0;32m      3\u001b[0m \u001b[38;5;66;03m# Calculate mean for 'long' column in dataY DataFrame\u001b[39;00m\n\u001b[1;32m----> 4\u001b[0m mean_dataY \u001b[38;5;241m=\u001b[39m dataY[\u001b[38;5;124m'\u001b[39m\u001b[38;5;124mlong\u001b[39m\u001b[38;5;124m'\u001b[39m]\u001b[38;5;241m.\u001b[39mmean()\n\u001b[0;32m      6\u001b[0m \u001b[38;5;66;03m# Plot KDE for 'streak' column in dim2 DataFrame\u001b[39;00m\n\u001b[0;32m      7\u001b[0m sns\u001b[38;5;241m.\u001b[39mkdeplot(data\u001b[38;5;241m=\u001b[39mdim2[\u001b[38;5;124m'\u001b[39m\u001b[38;5;124mstreak\u001b[39m\u001b[38;5;124m'\u001b[39m], label\u001b[38;5;241m=\u001b[39m\u001b[38;5;124m'\u001b[39m\u001b[38;5;124mDiMaggio Distribution from Part 1\u001b[39m\u001b[38;5;124m'\u001b[39m, cumulative\u001b[38;5;241m=\u001b[39m\u001b[38;5;28;01mFalse\u001b[39;00m, bw_adjust\u001b[38;5;241m=\u001b[39m\u001b[38;5;241m0.7\u001b[39m, common_norm\u001b[38;5;241m=\u001b[39m\u001b[38;5;28;01mFalse\u001b[39;00m, common_grid\u001b[38;5;241m=\u001b[39m\u001b[38;5;28;01mFalse\u001b[39;00m)\n",
      "\u001b[1;31mNameError\u001b[0m: name 'dataY' is not defined"
     ]
    }
   ],
   "source": [
    "#plot that compares distributions from both Sim methods (DiMaggio from part 1 compared to DiMaggio\n",
    "#from part 2)\n",
    "mean_dim2 = dim2['streak'].mean()\n",
    "\n",
    "mean_dataY = dataY['long'].mean()\n",
    "\n",
    "sns.kdeplot(data=dim2['streak'], label='DiMaggio Distribution from Part 1', cumulative=False, bw_adjust=0.7, common_norm=False, common_grid=False)\n",
    "sns.kdeplot(data=dataY['long'], label='DiMaggio Distribution from Part 2', cumulative=False, bw_adjust=0.7, common_norm=False, common_grid=False)\n",
    "\n",
    "plt.xlim(x_range)\n",
    "\n",
    "plt.xlabel('Value')\n",
    "plt.ylabel('Proportion')\n",
    "plt.title('Comparison of DiMaggio Distributions: Part 1 vs. Part 2')\n",
    "\n",
    "plt.axvline(x=mean_dim2, color=sns.color_palette()[0], linestyle='--', label='Mean of Part 1: {:.2f}'.format(mean_dim2))\n",
    "plt.axvline(x=mean_dataY, color=sns.color_palette()[1], linestyle='--', label='Mean of Part 2: {:.2f}'.format(mean_dataY))\n",
    "\n",
    "plt.legend()\n",
    "\n",
    "plt.savefig('dist_comp.png', dpi=300)\n",
    "plt.show()"
   ]
  }
 ],
 "metadata": {
  "kernelspec": {
   "display_name": "Python 3 (ipykernel)",
   "language": "python",
   "name": "python3"
  },
  "language_info": {
   "codemirror_mode": {
    "name": "ipython",
    "version": 3
   },
   "file_extension": ".py",
   "mimetype": "text/x-python",
   "name": "python",
   "nbconvert_exporter": "python",
   "pygments_lexer": "ipython3",
   "version": "3.11.5"
  }
 },
 "nbformat": 4,
 "nbformat_minor": 5
}
